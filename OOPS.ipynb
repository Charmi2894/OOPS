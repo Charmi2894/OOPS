{
  "nbformat": 4,
  "nbformat_minor": 0,
  "metadata": {
    "colab": {
      "provenance": []
    },
    "kernelspec": {
      "name": "python3",
      "display_name": "Python 3"
    },
    "language_info": {
      "name": "python"
    }
  },
  "cells": [
    {
      "cell_type": "markdown",
      "source": [
        "#OOPS in PYTHON"
      ],
      "metadata": {
        "id": "46U55SoZtBW3"
      }
    },
    {
      "cell_type": "markdown",
      "source": [
        "#Theory Questions"
      ],
      "metadata": {
        "id": "Mw3_tJ1ftHNT"
      }
    },
    {
      "cell_type": "markdown",
      "source": [
        "1. What is Object-Oriented Programming (OOP)?\n",
        "  - OOP (Object-Oriented Programming) is a programming paradigm based on the concept of \"objects\", which are instances of classes."
      ],
      "metadata": {
        "id": "Luw-DT5EtKvD"
      }
    },
    {
      "cell_type": "markdown",
      "source": [
        "2. What is a class in OOP?\n",
        "  - A class in programming (especially in Object-Oriented Programming or OOP) is a blueprint or template for creating objects."
      ],
      "metadata": {
        "id": "IIIpCIm3uUaO"
      }
    },
    {
      "cell_type": "markdown",
      "source": [
        "3. What is an object in OOP?\n",
        "  - An object in Object-Oriented Programming (OOP) is an instance of a class.\n",
        "  - It represents a real-world entity that has properties (attributes) and can perform actions (methods)."
      ],
      "metadata": {
        "id": "W3YFHkb0ug2C"
      }
    },
    {
      "cell_type": "markdown",
      "source": [
        "4. What is the difference between abstraction and encapsulation?\n",
        "  - Abstraction refers to the process of providing only essential information to the outside word and hiding their background details.\n",
        "  - The process of binding attributes and its associated methods into a single unit called Class is known as data encapsulation."
      ],
      "metadata": {
        "id": "OYhNgP8_wQEV"
      }
    },
    {
      "cell_type": "markdown",
      "source": [
        "5. What are dunder methods in Python?\n",
        "  - In Python there are special reserved methods that are surrounded by double underscores is called dunder methods.\n",
        "  - These methods allow you to define how instances of your classes behave when they are used with built-in Python functions or operators."
      ],
      "metadata": {
        "id": "gcD92n8qP9va"
      }
    },
    {
      "cell_type": "markdown",
      "source": [
        "6. Explain the concept of inheritance in OOP?\n",
        "  - The process of deriving a new class from an already existing class is known as inheritance.\n",
        "  - The class that is derived is known as derived class and the class from which new class is derived is known as base class."
      ],
      "metadata": {
        "id": "CW4dlzt_RqSv"
      }
    },
    {
      "cell_type": "markdown",
      "source": [
        "7. What is polymorphism in OOP?\n",
        "  - Polymorphism means \"many forms\".\n",
        "  - It is a key concept in OOP that allows objects of different classes to be treated as objects of a common superclass, particularly through a shared interface or base class."
      ],
      "metadata": {
        "id": "33aiM9x4SaRZ"
      }
    },
    {
      "cell_type": "markdown",
      "source": [
        "8. How is encapsulation achieved in Python?\n",
        "  - It refers to bundling data (attributes) and methods (functions) that operate on that data into a single unit (class) and restricting direct access to some of the object's components to protect the data from outside interference and misuse."
      ],
      "metadata": {
        "id": "UF35PU25U4r9"
      }
    },
    {
      "cell_type": "markdown",
      "source": [
        "9. What is a constructor in Python?\n",
        "  - Constructor is a method of the class. It is called special method of the class because its name is __init__().\n",
        "  - Constructor is used to construct the values for the attributes of the class automatically when the object of class is created."
      ],
      "metadata": {
        "id": "D9GwEOfkVtJ5"
      }
    },
    {
      "cell_type": "markdown",
      "source": [
        "10. What are class and static methods in Python?\n",
        "  - Class method is used get or set details of the class.\n",
        "  - Static methods does not access class specific methods or object specific attributes."
      ],
      "metadata": {
        "id": "Nly63nxDXCwl"
      }
    },
    {
      "cell_type": "markdown",
      "source": [
        "11. What is method overloading in Python?\n",
        "  - Method Overloading is a feature that allows a class to have multiple methods with the same name but different parameters (number, type, or order of arguments)."
      ],
      "metadata": {
        "id": "LAEKKm5bZhCf"
      }
    },
    {
      "cell_type": "markdown",
      "source": [
        "12. What is method overriding in OOP?\n",
        "  - Method overriding is an OOP feature where a subclass provides a specific implementation of a method that is already defined in its superclass."
      ],
      "metadata": {
        "id": "XupO_ciuacmT"
      }
    },
    {
      "cell_type": "markdown",
      "source": [
        "13. What is a property decorator in Python?\n",
        "  - The @property decorator is a built-in way to define a method that can be accessed like an attribute, allowing controlled access to instance variables."
      ],
      "metadata": {
        "id": "x_TE7raaasXH"
      }
    },
    {
      "cell_type": "markdown",
      "source": [
        "14. Why is polymorphism important in OOP?\n",
        "  - Code Reuseability : You can write generic code that works with different types of objects.\n",
        "  - Flexibility and Extensibility : You can add new classes with different behaviors without changing existing code.\n",
        "  - Simplified Code Maintenance : Reduces code duplication.\n",
        "  - Supports Dynamic Behavior : Runtime polymorphism lets you decide which method to execute at runtime, not at compile-time.\n",
        "  - Improves Readability and Structure : Keeps your code clean, organized, and modular."
      ],
      "metadata": {
        "id": "3owr1w6Vbm4i"
      }
    },
    {
      "cell_type": "markdown",
      "source": [
        "15. What is an abstract class in Python?\n",
        "  - An abstract class in Python is a class that cannot be instantiated on its own and is designed to be inherited by other classes.\n",
        "  - It is used to define a common interface or blueprint for its subclasses."
      ],
      "metadata": {
        "id": "_mFknentcSA3"
      }
    },
    {
      "cell_type": "markdown",
      "source": [
        "16. What are the advantages of OOP?\n",
        "  - Code is organized into classes and objects, making it easier to manage.\n",
        "  - You can reuse existing classes by inheriting from them.\n",
        "  - With polymorphism, the same method name can behave differently across classes.\n",
        "  - Internal object details are hidden using private attributes and methods."
      ],
      "metadata": {
        "id": "8qS3T5ypm8rW"
      }
    },
    {
      "cell_type": "markdown",
      "source": [
        "17. What is the difference between a class variable and an instance variable?\n",
        "  - Class Variable :-\n",
        "      - Shared across all instances of a class\n",
        "      - Inside class, outside any methods\n",
        "      - Stored in the class\n",
        "      - Common value for all objects (e.g., counter)\n",
        "  - Instance Variable :-\n",
        "      - Specific to each object (instance)\n",
        "      - Usually inside the __init__() method\n",
        "      - Stored in the instance (object)\n",
        "      - Unique data for each object (e.g., name, age)\n",
        "\n"
      ],
      "metadata": {
        "id": "cwJFkMASohN-"
      }
    },
    {
      "cell_type": "markdown",
      "source": [
        "18. What is multiple inheritance in Python?\n",
        "  - Multiple inheritance is a feature in object-oriented programming where a class can inherit from more than one parent class.\n",
        "  - Python supports multiple inheritance, which allows a subclass to inherit attributes and methods from multiple base classes."
      ],
      "metadata": {
        "id": "2yHCIkDAsXMt"
      }
    },
    {
      "cell_type": "markdown",
      "source": [
        "19. Explain the purpose of __str__ and __repr__  methods in Python.\n",
        "  - __str__ : This method is called when the str() function is used on an instance of the class. It should return a string representation of the object.\n",
        "  - __repr__ : This method is called when the repr() function is used on an instance of the class. It should return an unambiguous string representation of the object, which can be used to recreate the object"
      ],
      "metadata": {
        "id": "XpgXwsCUsJFG"
      }
    },
    {
      "cell_type": "markdown",
      "source": [
        "20. What is the significance of the ‘super()’ function in Python?\n",
        "  - The super() function in Python is used to call methods from a parent (or superclass) within a subclass.\n",
        "  - It is especially useful in inheritance, including multiple inheritance, to avoid repeating code and to maintain a clean method resolution order."
      ],
      "metadata": {
        "id": "uUJUhDoUvJcU"
      }
    },
    {
      "cell_type": "markdown",
      "source": [
        "21. What is the significance of the __del__ method in Python?\n",
        "  - The __del__() method in Python is a destructor method, automatically called when an object is about to be destroyed.\n",
        "  - It allows you to define cleanup actions before the object is removed from memory."
      ],
      "metadata": {
        "id": "cw1qorRCwc4n"
      }
    },
    {
      "cell_type": "markdown",
      "source": [
        "22. What is the difference between @staticmethod and @classmethod in Python?\n",
        "  - @staticmethod can be accessed without object of class.\n",
        "  - @classmethod can be accessed with object of class and class name."
      ],
      "metadata": {
        "id": "D9s5nn8UxyTi"
      }
    },
    {
      "cell_type": "markdown",
      "source": [
        "23. How does polymorphism work in Python with inheritance?\n",
        "  - When used with inheritance, polymorphism enables child classes to override methods of the parent class, and Python dynamically determines which method to call at runtime."
      ],
      "metadata": {
        "id": "DFhIs8IjzCa4"
      }
    },
    {
      "cell_type": "markdown",
      "source": [
        "24. What is method chaining in Python OOP?\n",
        "  - Method chaining is a programming technique in which multiple methods are called in a single line—one after another—on the same object.\n",
        "  - It works by having each method return the object itself (self) after performing its task."
      ],
      "metadata": {
        "id": "rry0NRuZ0BHh"
      }
    },
    {
      "cell_type": "markdown",
      "source": [
        "25. What is the purpose of the __call__ method in Python?\n",
        "  - The __call__ method makes an object callable, meaning you can use object() syntax just like a function."
      ],
      "metadata": {
        "id": "nnfcaBOt0x4G"
      }
    },
    {
      "cell_type": "markdown",
      "source": [
        "# Practical Question"
      ],
      "metadata": {
        "id": "ofMV9_Dr1gPu"
      }
    },
    {
      "cell_type": "code",
      "source": [
        "# 1. Create a parent class Animal with a method speak() that prints a generic message. Create a child class Dog that overrides the speak() method to print \"Bark!\"\n",
        "class Animal:\n",
        "  def speak(self):\n",
        "    print(\"In the speak()\")\n",
        "class Dog(Animal):\n",
        "  def speak(self):\n",
        "    print(\"Bark\")\n",
        "obj1 = Animal()\n",
        "obj2 = Dog()\n",
        "obj1.speak()\n",
        "obj2.speak()"
      ],
      "metadata": {
        "colab": {
          "base_uri": "https://localhost:8080/"
        },
        "id": "peu7OjMc1j_R",
        "outputId": "c38b374f-26a6-4dad-b246-64f12b25d601"
      },
      "execution_count": null,
      "outputs": [
        {
          "output_type": "stream",
          "name": "stdout",
          "text": [
            "In the speak()\n",
            "Bark\n"
          ]
        }
      ]
    },
    {
      "cell_type": "code",
      "source": [
        "# 2. Write a program to create an abstract class Shape with a method area(). Derive classes Circle and Rectangle from it and implement the area() method in both.\n",
        "from abc import ABC\n",
        "import math\n",
        "class Shape(ABC):\n",
        "    def area(self):\n",
        "        pass\n",
        "class Circle(Shape):\n",
        "    def __init__(self, radius):\n",
        "        self.radius = radius\n",
        "\n",
        "    def area(self):\n",
        "        return math.pi * self.radius * self.radius\n",
        "class Rectangle(Shape):\n",
        "    def __init__(self, width, height):\n",
        "        self.width = width\n",
        "        self.height = height\n",
        "\n",
        "    def area(self):\n",
        "        return self.width * self.height\n",
        "circle = Circle(10)\n",
        "rectangle = Rectangle(4,6)\n",
        "print(\"Area of Circle:\", circle.area())\n",
        "print(\"Area of Rectangle:\", rectangle.area())\n",
        "\n"
      ],
      "metadata": {
        "colab": {
          "base_uri": "https://localhost:8080/"
        },
        "id": "LuYJVRGRWuuV",
        "outputId": "15aca38b-eac1-45e5-8b73-f097179b8712"
      },
      "execution_count": null,
      "outputs": [
        {
          "output_type": "stream",
          "name": "stdout",
          "text": [
            "Area of Circle: 314.1592653589793\n",
            "Area of Rectangle: 24\n"
          ]
        }
      ]
    },
    {
      "cell_type": "code",
      "source": [
        "# 3. Implement a multi-level inheritance scenario where a class Vehicle has an attribute type. Derive a class Car and further derive a class ElectricCar that adds a battery attribute.\n",
        "class vehicle:\n",
        "  def method1(self):\n",
        "    print(\"In class VEHICLE\")\n",
        "class car(vehicle):\n",
        "  def method2(self):\n",
        "    print(\"In class CAR\")\n",
        "class electricCar(car):\n",
        "  def method3(self):\n",
        "    print(\"In class ELECTRIC CAR\")\n",
        "ele_car = electricCar()\n",
        "ele_car.method1()\n",
        "ele_car.method2()\n",
        "ele_car.method3()\n"
      ],
      "metadata": {
        "colab": {
          "base_uri": "https://localhost:8080/"
        },
        "id": "sHd0dO6UcQ86",
        "outputId": "6a45f820-da0d-4c33-d9b7-ad2f65a1f18b"
      },
      "execution_count": null,
      "outputs": [
        {
          "output_type": "stream",
          "name": "stdout",
          "text": [
            "In class VEHICLE\n",
            "In class CAR\n",
            "In class ELECTRIC CAR\n"
          ]
        }
      ]
    },
    {
      "cell_type": "code",
      "source": [
        "# 4. Demonstrate polymorphism by creating a base class Bird with a method fly(). Create two derived classes Sparrow and Penguin that override the fly() method.\n",
        "class Bird:\n",
        "  def fly(self):\n",
        "    print(\"Fly() in Bird Class\")\n",
        "class Sparrow(Bird):\n",
        "  def fly(self):\n",
        "    print(\"Fly() in Sparrow Class\")\n",
        "class Penguin(Bird):\n",
        "  def fly(self):\n",
        "    print(\"Fly() in Penguin Class\")\n",
        "def show_flight(bird):\n",
        "    bird.fly()\n",
        "s = Sparrow()\n",
        "p = Penguin()\n",
        "show_flight(s)\n",
        "show_flight(p)\n"
      ],
      "metadata": {
        "id": "g8OUVDmRfXYn",
        "colab": {
          "base_uri": "https://localhost:8080/"
        },
        "outputId": "f985f1e1-b1c1-4a2d-d1f3-972f2f821f82"
      },
      "execution_count": null,
      "outputs": [
        {
          "output_type": "stream",
          "name": "stdout",
          "text": [
            "Fly() in Sparrow Class\n",
            "Fly() in Penguin Class\n"
          ]
        }
      ]
    },
    {
      "cell_type": "code",
      "source": [
        "#5. Write a program to demonstrate encapsulation by creating a class BankAccount with private attributes balance and methods to deposit, withdraw, and check balance.\n",
        "class BankAccount:\n",
        "  def __init__(self,bal=0):\n",
        "    self.__bal=bal\n",
        "  def deposit(self,amt):\n",
        "    if amt>0:\n",
        "      self.__bal += amt\n",
        "      print(f\"Deposited:{amt}\")\n",
        "    else:\n",
        "      print(\"Deposit amount must be positive\")\n",
        "  def withdraw(self,amt):\n",
        "    if 0 < amt <= self.__bal:\n",
        "       self.__bal -= amt\n",
        "       print(f\"Withdrawn: ₹{amt}\")\n",
        "    else:\n",
        "      print(\"Insufficient balance or invalid amount.\")\n",
        "  def check_balance(self):\n",
        "    print(f\"Current Balance: ₹{self.__bal}\")\n",
        "bankacc = BankAccount(1000)\n",
        "bankacc.deposit(500)\n",
        "bankacc.withdraw(100)\n",
        "bankacc.check_balance()"
      ],
      "metadata": {
        "colab": {
          "base_uri": "https://localhost:8080/"
        },
        "id": "ZFhL_1vE8UY1",
        "outputId": "3eee629a-41d4-4bc8-e789-dad112b6eece"
      },
      "execution_count": null,
      "outputs": [
        {
          "output_type": "stream",
          "name": "stdout",
          "text": [
            "Deposited:500\n",
            "Withdrawn: ₹100\n",
            "Current Balance: ₹1400\n"
          ]
        }
      ]
    },
    {
      "cell_type": "code",
      "source": [
        "#6. Demonstrate runtime polymorphism using a method play() in a base class Instrument. Derive classes Guitar and Piano that implement their own version of play().\n",
        "class Instrument:\n",
        "    def play(self):\n",
        "        print(\"Instrument is Played\")\n",
        "class Guitar(Instrument):\n",
        "    def play(self):\n",
        "        print(\"Guitar is played\")\n",
        "class Piano(Instrument):\n",
        "    def play(self):\n",
        "        print(\"Piano is played\")\n",
        "def play_ins(instrument):\n",
        "    instrument.play()\n",
        "g = Guitar()\n",
        "p = Piano()\n",
        "play_ins(g)\n",
        "play_ins(p)"
      ],
      "metadata": {
        "id": "nneuxm-VBxOE",
        "colab": {
          "base_uri": "https://localhost:8080/"
        },
        "outputId": "b4b19ed3-2c97-45a9-9fcf-3ab996f33175"
      },
      "execution_count": null,
      "outputs": [
        {
          "output_type": "stream",
          "name": "stdout",
          "text": [
            "Guitar is played\n",
            "Piano is played\n"
          ]
        }
      ]
    },
    {
      "cell_type": "code",
      "source": [
        "# 7. Create a class MathOperations with a class method add_numbers() to add two numbers and a static method subtract_numbers() to subtract two numbers.\n",
        "class MathOperations:\n",
        "    @classmethod\n",
        "    def add_numbers(cls,a,b):\n",
        "        return a+b\n",
        "    @staticmethod\n",
        "    def subtract_numbers(a,b):\n",
        "        return a-b\n",
        "m = MathOperations()\n",
        "a = m.add_numbers(10,20)\n",
        "s = m.subtract_numbers(20,10)\n",
        "print(f\"Addition:{a}\")\n",
        "print(f\"Subtraction:{s}\")"
      ],
      "metadata": {
        "colab": {
          "base_uri": "https://localhost:8080/"
        },
        "id": "t9mDp9hd9DQH",
        "outputId": "3fe36151-575b-461b-d0a6-7100adcf9b48"
      },
      "execution_count": null,
      "outputs": [
        {
          "output_type": "stream",
          "name": "stdout",
          "text": [
            "Addition:30\n",
            "Subtraction:10\n"
          ]
        }
      ]
    },
    {
      "cell_type": "code",
      "source": [
        "# 8. Implement a class Person with a class method to count the total number of persons created.\n",
        "class Person:\n",
        "    count = 0\n",
        "    def __init__(self,name):\n",
        "        self.name = name\n",
        "        Person.count += 1\n",
        "\n",
        "    @classmethod\n",
        "    def tot_num_person(cls):\n",
        "        return cls.count\n",
        "p1 = Person(\"Charmi\")\n",
        "p2 = Person(\"Dipesh\")\n",
        "p3 = Person(\"Swarup\")\n",
        "print(\"Total Number Of Persons are\",Person.tot_num_person())"
      ],
      "metadata": {
        "colab": {
          "base_uri": "https://localhost:8080/"
        },
        "id": "YNFI6Jt29Lx3",
        "outputId": "7abff7e1-d529-40bd-f5a9-6ea7db9a1f49"
      },
      "execution_count": null,
      "outputs": [
        {
          "output_type": "stream",
          "name": "stdout",
          "text": [
            "Total Number Of Persons are 3\n"
          ]
        }
      ]
    },
    {
      "cell_type": "code",
      "source": [
        "# 9. Write a class Fraction with attributes numerator and denominator. Override the str method to display the fraction as \"numerator/denominator\".\n",
        "class Fraction:\n",
        "  def __init__(self,num,den):\n",
        "     self.num=num\n",
        "     self.den=den\n",
        "  def __str__(self):\n",
        "     return f\"{self.num}/{self.den}\"\n",
        "f1 = Fraction(9,3)\n",
        "print(f1)"
      ],
      "metadata": {
        "colab": {
          "base_uri": "https://localhost:8080/"
        },
        "id": "A1JAbLos9UAq",
        "outputId": "106f8ff5-f8f3-4eeb-f417-5e347f7e06f1"
      },
      "execution_count": null,
      "outputs": [
        {
          "output_type": "stream",
          "name": "stdout",
          "text": [
            "9/3\n"
          ]
        }
      ]
    },
    {
      "cell_type": "code",
      "source": [
        "# 10. Demonstrate operator overloading by creating a class Vector and overriding the add method to add two vectors.\n",
        "class Vector:\n",
        "  def __init__(self,x,y):\n",
        "     self.x=x\n",
        "     self.y=y\n",
        "  def __add__(self,another):\n",
        "    return Vector(self.x + another.x,self.y + another.y)\n",
        "  def __str__(self):\n",
        "    return f\"Vector({self.x}, {self.y})\"\n",
        "v1 = Vector(2,1)\n",
        "v2 = Vector(9,8)\n",
        "res = v1+v2\n",
        "print(res)"
      ],
      "metadata": {
        "colab": {
          "base_uri": "https://localhost:8080/"
        },
        "id": "dvHLllnN-crC",
        "outputId": "4128dce9-b8f3-4840-9be2-b05272cf7962"
      },
      "execution_count": null,
      "outputs": [
        {
          "output_type": "stream",
          "name": "stdout",
          "text": [
            "Vector(11, 9)\n"
          ]
        }
      ]
    },
    {
      "cell_type": "code",
      "source": [
        "# 11. Create a class Person with attributes name and age. Add a method greet() that prints \"Hello, my name is {name} and I am {age} years old.\"\n",
        "class person:\n",
        "  def __init__(self,name,age):\n",
        "     self.name=name\n",
        "     self.age=age\n",
        "  def greet(self):\n",
        "    print(f\"Hello my name is {self.name} and I am {self.age} years old\")\n",
        "p = person(\"Charmi\",21)\n",
        "print(p.greet())"
      ],
      "metadata": {
        "colab": {
          "base_uri": "https://localhost:8080/"
        },
        "id": "Jm13CXQpAFMh",
        "outputId": "1858aaf8-2da0-426f-a678-773d9d4765b9"
      },
      "execution_count": null,
      "outputs": [
        {
          "output_type": "stream",
          "name": "stdout",
          "text": [
            "Hello my name is Charmi and I am 21 years old\n",
            "None\n"
          ]
        }
      ]
    },
    {
      "cell_type": "code",
      "source": [
        "#12. Implement a class Student with attributes name and grades. Create a method average_grade() to compute the average of the grades.\n",
        "class Student:\n",
        "  def __init__(self,name,grades):\n",
        "    self.name = name\n",
        "    self.grades = grades\n",
        "  def average_grade(self):\n",
        "    if not self.grades:\n",
        "      return 0\n",
        "    return sum(self.grades) / len(self.grades)\n",
        "student1 = Student(\"Charmi\", [85, 90, 78, 92])\n",
        "print(f\"{student1.name}'s average grade is: {student1.average_grade()}\")\n"
      ],
      "metadata": {
        "id": "1IQzYQvFBoqn",
        "colab": {
          "base_uri": "https://localhost:8080/"
        },
        "outputId": "c178cf9a-97d4-42ee-e0d8-bf9029765a27"
      },
      "execution_count": null,
      "outputs": [
        {
          "output_type": "stream",
          "name": "stdout",
          "text": [
            "Charmi's average grade is: 86.25\n"
          ]
        }
      ]
    },
    {
      "cell_type": "code",
      "source": [
        "#  13. Create a class Rectangle with methods set_dimensions() to set the dimensions and area() to calculate the area.\n",
        "class Rectangle:\n",
        "  def __init__(self):\n",
        "    self.length = 0\n",
        "    self.breadth = 0\n",
        "  def set_dimensions(self,length,breadth):\n",
        "    self.length = length\n",
        "    self.breadth = breadth\n",
        "  def area(self):\n",
        "    return self.length * self.breadth\n",
        "rect = Rectangle()\n",
        "rect.set_dimensions(2,3)\n",
        "print(\"Area Of Rectangle:\",rect.area())"
      ],
      "metadata": {
        "colab": {
          "base_uri": "https://localhost:8080/"
        },
        "id": "Yvbt1JvoGgrF",
        "outputId": "c8e7d8ec-0577-449d-a9ad-c2bf53cda936"
      },
      "execution_count": 2,
      "outputs": [
        {
          "output_type": "stream",
          "name": "stdout",
          "text": [
            "Area Of Rectangle: 6\n"
          ]
        }
      ]
    },
    {
      "cell_type": "code",
      "source": [
        "#  14. Create a class Employee with a method calculate_salary() that computes the salary based on hours worked and hourly rate. Create a derived class Manager that adds a bonus to the salary.\n",
        "class Employee:\n",
        "    def __init__(self, name, hours_worked, hourly_rate):\n",
        "        self.name = name\n",
        "        self.hours_worked = hours_worked\n",
        "        self.hourly_rate = hourly_rate\n",
        "    def calculate_salary(self):\n",
        "        return self.hours_worked * self.hourly_rate\n",
        "class Manager(Employee):\n",
        "    def __init__(self, name, hours_worked, hourly_rate, bonus):\n",
        "        super().__init__(name, hours_worked, hourly_rate)\n",
        "        self.bonus = bonus\n",
        "    def calculate_salary(self):\n",
        "        base_salary = super().calculate_salary()\n",
        "        return base_salary + self.bonus\n",
        "emp = Employee(\"Alice\", 10, 50)\n",
        "print(f\"Employee Salary: ₹{emp.calculate_salary()}\")\n",
        "mgr = Manager(\"Bob\", 10, 60, 5000)\n",
        "print(f\"Manager Salary: ₹{mgr.calculate_salary()}\")\n"
      ],
      "metadata": {
        "colab": {
          "base_uri": "https://localhost:8080/"
        },
        "id": "x02hr3u-RZfy",
        "outputId": "4c7c935e-35aa-4b7a-b896-47d34c603960"
      },
      "execution_count": 4,
      "outputs": [
        {
          "output_type": "stream",
          "name": "stdout",
          "text": [
            "Employee Salary: ₹500\n",
            "Manager Salary: ₹5600\n"
          ]
        }
      ]
    },
    {
      "cell_type": "code",
      "source": [
        "# 15. Create a class Product with attributes name, price, and quantity. Implement a method total_price() that calculates the total price of the product.\n",
        "class Product:\n",
        "    def __init__(self, name, price, quantity):\n",
        "        self.name = name\n",
        "        self.price = price\n",
        "        self.quantity = quantity\n",
        "    def total_price(self):\n",
        "        return self.price * self.quantity\n",
        "p1 = Product(\"Health Supplement\", 200, 3)\n",
        "print(f\"Total price for {p1.name}: ₹{p1.total_price()}\")"
      ],
      "metadata": {
        "colab": {
          "base_uri": "https://localhost:8080/"
        },
        "id": "2CxPlmRuSp0i",
        "outputId": "b342694f-99f1-43f7-9682-57b0f6427a7c"
      },
      "execution_count": 6,
      "outputs": [
        {
          "output_type": "stream",
          "name": "stdout",
          "text": [
            "Total price for Health Supplement: ₹600\n"
          ]
        }
      ]
    },
    {
      "cell_type": "code",
      "source": [
        "#  16. Create a class Animal with an abstract method sound(). Create two derived classes Cow and Sheep that implement the sound() method.\n",
        "from abc import ABC, abstractmethod\n",
        "class Animal(ABC):\n",
        "    @abstractmethod\n",
        "    def sound(self):\n",
        "        pass\n",
        "class Cow(Animal):\n",
        "    def sound(self):\n",
        "        return \"Moo\"\n",
        "class Sheep(Animal):\n",
        "    def sound(self):\n",
        "        return \"Baa\"\n",
        "cow = Cow()\n",
        "sheep = Sheep()\n",
        "print(\"Cow sound:\", cow.sound())\n",
        "print(\"Sheep sound:\", sheep.sound())"
      ],
      "metadata": {
        "colab": {
          "base_uri": "https://localhost:8080/"
        },
        "id": "FI8i_199T46s",
        "outputId": "df8866c7-5ca7-4085-ba67-24d0e85b11f2"
      },
      "execution_count": 7,
      "outputs": [
        {
          "output_type": "stream",
          "name": "stdout",
          "text": [
            "Cow sound: Moo\n",
            "Sheep sound: Baa\n"
          ]
        }
      ]
    },
    {
      "cell_type": "code",
      "source": [
        "# 17. Create a class Book with attributes title, author, and year_published. Add a method get_book_info() that returns a formatted string with the book's details.\n",
        "class Book:\n",
        "    def __init__(self, title, author, year_published):\n",
        "        self.title = title\n",
        "        self.author = author\n",
        "        self.year_published = year_published\n",
        "    def get_book_info(self):\n",
        "        return f\"'{self.title}' by {self.author} (Published in {self.year_published})\"\n",
        "book1 = Book(\"To Kill a Mockingbird\", \"Harper Lee\", 1960)\n",
        "print(book1.get_book_info())"
      ],
      "metadata": {
        "colab": {
          "base_uri": "https://localhost:8080/"
        },
        "id": "f_z8UrclUJSS",
        "outputId": "88227838-ce1f-4be7-c09d-fcc3d7ce1965"
      },
      "execution_count": 8,
      "outputs": [
        {
          "output_type": "stream",
          "name": "stdout",
          "text": [
            "'To Kill a Mockingbird' by Harper Lee (Published in 1960)\n"
          ]
        }
      ]
    },
    {
      "cell_type": "code",
      "source": [
        "# 18. Create a class House with attributes address and price. Create a derived class Mansion that adds an attribute number_of_rooms.\n",
        "class House:\n",
        "    def __init__(self, address, price):\n",
        "        self.address = address\n",
        "        self.price = price\n",
        "class Mansion(House):\n",
        "    def __init__(self, address, price, number_of_rooms):\n",
        "        super().__init__(address, price)\n",
        "        self.number_of_rooms = number_of_rooms\n",
        "house = House(\"123 Green Street\", 500000)\n",
        "print(f\"House Address: {house.address}, Price: ₹{house.price}\")\n",
        "mansion = Mansion(\"456 Luxury Ave\", 2000000, 10)\n",
        "print(f\"Mansion Address: {mansion.address}, Price: ₹{mansion.price}, Rooms: {mansion.number_of_rooms}\")"
      ],
      "metadata": {
        "colab": {
          "base_uri": "https://localhost:8080/"
        },
        "id": "2jYWzqm_WRu3",
        "outputId": "deb6b709-4bcf-4ed2-ffcb-66671c26f158"
      },
      "execution_count": 9,
      "outputs": [
        {
          "output_type": "stream",
          "name": "stdout",
          "text": [
            "House Address: 123 Green Street, Price: ₹500000\n",
            "Mansion Address: 456 Luxury Ave, Price: ₹2000000, Rooms: 10\n"
          ]
        }
      ]
    }
  ]
}